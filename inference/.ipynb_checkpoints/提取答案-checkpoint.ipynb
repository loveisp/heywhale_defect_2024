{
 "cells": [
  {
   "cell_type": "code",
   "execution_count": 4,
   "id": "3f6f7f00",
   "metadata": {
    "ExecuteTime": {
     "end_time": "2024-02-03T21:17:47.350337Z",
     "start_time": "2024-02-03T21:17:47.333202Z"
    }
   },
   "outputs": [],
   "source": [
    "import torch\n",
    "from torch import nn\n",
    "from torch.utils.data import Dataset, DataLoader\n",
    "from torchvision.transforms import v2\n",
    "import torchvision.models as models\n",
    "import pandas as pd\n",
    "import numpy as np\n",
    "from pathlib import Path\n",
    "from PIL import Image\n",
    "from tqdm.auto import tqdm\n",
    "\n",
    "\n",
    "# 本次比赛用到的模型\n",
    "model_names = [\n",
    "    'convnext_large',\n",
    "    'convnext_base',\n",
    "    'maxvit_t',\n",
    "    'vit_h_14',\n",
    "]\n",
    "\n",
    "d_info = {\n",
    "    'convnext_large': {\n",
    "        'weights': 'IMAGENET1K_V1',\n",
    "        'change_head': lambda _: exec(\n",
    "            \"_.classifier[2] = nn.Linear(in_features=_.classifier[2].in_features, out_features=5, bias=True)\"\n",
    "        ),\n",
    "        'img_size': 224,\n",
    "        'bs': 32,\n",
    "        'preds_weight': 0.3,\n",
    "    },\n",
    "    'convnext_base': {\n",
    "        'weights': 'IMAGENET1K_V1',\n",
    "        'change_head': lambda _: exec(\n",
    "            \"_.classifier[2] = nn.Linear(in_features=_.classifier[2].in_features, out_features=5, bias=True)\"\n",
    "        ),\n",
    "        'img_size': 224,\n",
    "        'bs': 64,\n",
    "        'preds_weight': 0.3,\n",
    "    },\n",
    "    'maxvit_t': {\n",
    "        'weights': 'IMAGENET1K_V1',\n",
    "        'change_head': lambda _: exec(\n",
    "            \"_.classifier[5] = nn.Linear(in_features=_.classifier[5].in_features, out_features=5, bias=True)\"\n",
    "        ),\n",
    "        'img_size': 224,\n",
    "        'bs': 64,\n",
    "        'preds_weight': 0.3,\n",
    "    },\n",
    "    'vit_h_14': {\n",
    "        'weights': 'IMAGENET1K_SWAG_LINEAR_V1',\n",
    "        'change_head': lambda _: exec(\n",
    "            \"_.heads.head = nn.Linear(in_features=_.heads.head.in_features, out_features=5, bias=True)\"\n",
    "        ),\n",
    "        'img_size': 224,\n",
    "        'bs': 12,\n",
    "        'preds_weight': 0.1,\n",
    "    },\n",
    "}\n",
    "\n",
    "\n",
    "def get_model(model_name, device):\n",
    "    \n",
    "    model = getattr(models, model_name)(weights=d_info[model_name]['weights'])\n",
    "    d_info[model_name]['change_head'](model)\n",
    "    model.to(device)\n",
    "    return model\n",
    "\n",
    "\n",
    "class TestDefectDataset(Dataset):\n",
    "    \n",
    "    def __init__(self, img_dir, df, img_size=224, flip_mode=0):\n",
    "        self.img_dir = Path(img_dir)\n",
    "        self.df = df\n",
    "        self.resize = v2.Resize(size=(img_size, img_size), antialias=True)\n",
    "        self.flip1 = v2.RandomHorizontalFlip(p=1)\n",
    "        self.flip2 = v2.RandomVerticalFlip(p=1)\n",
    "        self.to_tensor = v2.Compose([\n",
    "            v2.ToImageTensor(),\n",
    "            v2.ConvertImageDtype(),\n",
    "            v2.Normalize(mean=[0.485, 0.456, 0.406], std=[0.229, 0.224, 0.225]),\n",
    "        ])\n",
    "        self.flip_mode = flip_mode\n",
    "\n",
    "    def __len__(self):\n",
    "        return len(self.df)\n",
    "\n",
    "    def __getitem__(self, idx):\n",
    "        fn = Path(self.df.fileName.iloc[idx])\n",
    "        img_path = self.img_dir / '{}.png'.format(fn.stem)\n",
    "        img = Image.open(img_path)\n",
    "        if self.flip_mode == 0:\n",
    "            transforms = v2.Compose([\n",
    "                self.resize, \n",
    "                self.to_tensor, \n",
    "            ])\n",
    "        elif self.flip_mode == 1:\n",
    "            transforms = v2.Compose([\n",
    "                self.resize, \n",
    "                self.flip1, \n",
    "                self.to_tensor, \n",
    "            ])\n",
    "        elif self.flip_mode == 2:\n",
    "            transforms = v2.Compose([\n",
    "                self.resize, \n",
    "                self.flip2, \n",
    "                self.to_tensor, \n",
    "            ])\n",
    "        elif self.flip_mode == 3:\n",
    "            transforms = v2.Compose([\n",
    "                self.resize, \n",
    "                self.flip1, \n",
    "                self.flip2, \n",
    "                self.to_tensor, \n",
    "            ])\n",
    "        return transforms(img), 0\n",
    "    \n",
    "    \n",
    "def predict_dl(model, dl, total, bs):\n",
    "    preds = np.zeros((total, 5), dtype=np.float32)\n",
    "    with torch.no_grad():\n",
    "        for i, (batch, _) in enumerate(tqdm(dl)):\n",
    "            preds[(i*bs):((i+1)*bs), :] = nn.Softmax(dim=1)(model(batch.to(device))).cpu().numpy()\n",
    "    return preds\n",
    "\n",
    "\n",
    "device = torch.device('cuda:0')\n",
    "df = pd.read_csv('./data/test_B/提交样例.csv')\n",
    "d_label = {0:'A', 1:'B', 2:'C', 3:'D', 4:'E'}"
   ]
  },
  {
   "cell_type": "code",
   "execution_count": 2,
   "id": "9f895e97",
   "metadata": {
    "ExecuteTime": {
     "end_time": "2024-02-03T21:15:34.751139Z",
     "start_time": "2024-02-03T21:08:54.634354Z"
    }
   },
   "outputs": [
    {
     "data": {
      "application/vnd.jupyter.widget-view+json": {
       "model_id": "ab49b33519ba450d92932d1ef3f5adbc",
       "version_major": 2,
       "version_minor": 0
      },
      "text/plain": [
       "  0%|          | 0/4 [00:00<?, ?it/s]"
      ]
     },
     "metadata": {},
     "output_type": "display_data"
    },
    {
     "data": {
      "application/vnd.jupyter.widget-view+json": {
       "model_id": "ce1345fe957046a7a421f649ee339f06",
       "version_major": 2,
       "version_minor": 0
      },
      "text/plain": [
       "0it [00:00, ?it/s]"
      ]
     },
     "metadata": {},
     "output_type": "display_data"
    },
    {
     "data": {
      "application/vnd.jupyter.widget-view+json": {
       "model_id": "d153759e2dc34774803889876f310f4f",
       "version_major": 2,
       "version_minor": 0
      },
      "text/plain": [
       "  0%|          | 0/4 [00:00<?, ?it/s]"
      ]
     },
     "metadata": {},
     "output_type": "display_data"
    },
    {
     "data": {
      "application/vnd.jupyter.widget-view+json": {
       "model_id": "116d62dccb434faea7024dc972c500b0",
       "version_major": 2,
       "version_minor": 0
      },
      "text/plain": [
       "  0%|          | 0/59 [00:00<?, ?it/s]"
      ]
     },
     "metadata": {},
     "output_type": "display_data"
    },
    {
     "data": {
      "application/vnd.jupyter.widget-view+json": {
       "model_id": "9930c5c93e5847acb32c41a10d39fe4f",
       "version_major": 2,
       "version_minor": 0
      },
      "text/plain": [
       "  0%|          | 0/59 [00:00<?, ?it/s]"
      ]
     },
     "metadata": {},
     "output_type": "display_data"
    },
    {
     "data": {
      "application/vnd.jupyter.widget-view+json": {
       "model_id": "45dadea1aa9e43e9af5456fca0a9f1d2",
       "version_major": 2,
       "version_minor": 0
      },
      "text/plain": [
       "  0%|          | 0/59 [00:00<?, ?it/s]"
      ]
     },
     "metadata": {},
     "output_type": "display_data"
    },
    {
     "data": {
      "application/vnd.jupyter.widget-view+json": {
       "model_id": "f2272394ba1043048f37c974f53fa0f4",
       "version_major": 2,
       "version_minor": 0
      },
      "text/plain": [
       "  0%|          | 0/59 [00:00<?, ?it/s]"
      ]
     },
     "metadata": {},
     "output_type": "display_data"
    },
    {
     "data": {
      "application/vnd.jupyter.widget-view+json": {
       "model_id": "4445c233b669414395945c6fa280a896",
       "version_major": 2,
       "version_minor": 0
      },
      "text/plain": [
       "  0%|          | 0/4 [00:00<?, ?it/s]"
      ]
     },
     "metadata": {},
     "output_type": "display_data"
    },
    {
     "data": {
      "application/vnd.jupyter.widget-view+json": {
       "model_id": "c53476bc0f5e4b748a4192eb9a5c0cce",
       "version_major": 2,
       "version_minor": 0
      },
      "text/plain": [
       "  0%|          | 0/59 [00:00<?, ?it/s]"
      ]
     },
     "metadata": {},
     "output_type": "display_data"
    },
    {
     "data": {
      "application/vnd.jupyter.widget-view+json": {
       "model_id": "fc701842e4444bd2982eaa2f32ecdb31",
       "version_major": 2,
       "version_minor": 0
      },
      "text/plain": [
       "  0%|          | 0/59 [00:00<?, ?it/s]"
      ]
     },
     "metadata": {},
     "output_type": "display_data"
    },
    {
     "data": {
      "application/vnd.jupyter.widget-view+json": {
       "model_id": "96272669c0c94616a76ac44e3aa7c88d",
       "version_major": 2,
       "version_minor": 0
      },
      "text/plain": [
       "  0%|          | 0/59 [00:00<?, ?it/s]"
      ]
     },
     "metadata": {},
     "output_type": "display_data"
    },
    {
     "data": {
      "application/vnd.jupyter.widget-view+json": {
       "model_id": "78fabeef6ccb4254b6ad8411d71f039f",
       "version_major": 2,
       "version_minor": 0
      },
      "text/plain": [
       "  0%|          | 0/59 [00:00<?, ?it/s]"
      ]
     },
     "metadata": {},
     "output_type": "display_data"
    },
    {
     "data": {
      "application/vnd.jupyter.widget-view+json": {
       "model_id": "a213fc0d66c6416e93ba29d0bc987ce9",
       "version_major": 2,
       "version_minor": 0
      },
      "text/plain": [
       "0it [00:00, ?it/s]"
      ]
     },
     "metadata": {},
     "output_type": "display_data"
    },
    {
     "data": {
      "application/vnd.jupyter.widget-view+json": {
       "model_id": "8720be1ecdf742ca94c58ac9a2c2ff5f",
       "version_major": 2,
       "version_minor": 0
      },
      "text/plain": [
       "  0%|          | 0/4 [00:00<?, ?it/s]"
      ]
     },
     "metadata": {},
     "output_type": "display_data"
    },
    {
     "data": {
      "application/vnd.jupyter.widget-view+json": {
       "model_id": "3935262af2a54399a997396a3b84825d",
       "version_major": 2,
       "version_minor": 0
      },
      "text/plain": [
       "  0%|          | 0/30 [00:00<?, ?it/s]"
      ]
     },
     "metadata": {},
     "output_type": "display_data"
    },
    {
     "data": {
      "application/vnd.jupyter.widget-view+json": {
       "model_id": "738889642fe045baa97d5ba5b24188db",
       "version_major": 2,
       "version_minor": 0
      },
      "text/plain": [
       "  0%|          | 0/30 [00:00<?, ?it/s]"
      ]
     },
     "metadata": {},
     "output_type": "display_data"
    },
    {
     "data": {
      "application/vnd.jupyter.widget-view+json": {
       "model_id": "d4ec1621e076447abb4498671ba21267",
       "version_major": 2,
       "version_minor": 0
      },
      "text/plain": [
       "  0%|          | 0/30 [00:00<?, ?it/s]"
      ]
     },
     "metadata": {},
     "output_type": "display_data"
    },
    {
     "data": {
      "application/vnd.jupyter.widget-view+json": {
       "model_id": "96ec927696344a03b6d11ffcd5d06c75",
       "version_major": 2,
       "version_minor": 0
      },
      "text/plain": [
       "  0%|          | 0/30 [00:00<?, ?it/s]"
      ]
     },
     "metadata": {},
     "output_type": "display_data"
    },
    {
     "data": {
      "application/vnd.jupyter.widget-view+json": {
       "model_id": "4038f9f237804d67b4d4608afe3e30c0",
       "version_major": 2,
       "version_minor": 0
      },
      "text/plain": [
       "  0%|          | 0/4 [00:00<?, ?it/s]"
      ]
     },
     "metadata": {},
     "output_type": "display_data"
    },
    {
     "data": {
      "application/vnd.jupyter.widget-view+json": {
       "model_id": "af87db7f8c0e436783f5bf1aab42f35c",
       "version_major": 2,
       "version_minor": 0
      },
      "text/plain": [
       "  0%|          | 0/30 [00:00<?, ?it/s]"
      ]
     },
     "metadata": {},
     "output_type": "display_data"
    },
    {
     "data": {
      "application/vnd.jupyter.widget-view+json": {
       "model_id": "ebd918984bfe495b906181e661647986",
       "version_major": 2,
       "version_minor": 0
      },
      "text/plain": [
       "  0%|          | 0/30 [00:00<?, ?it/s]"
      ]
     },
     "metadata": {},
     "output_type": "display_data"
    },
    {
     "data": {
      "application/vnd.jupyter.widget-view+json": {
       "model_id": "c8389ae1a98b40b683b561286c5a2e66",
       "version_major": 2,
       "version_minor": 0
      },
      "text/plain": [
       "  0%|          | 0/30 [00:00<?, ?it/s]"
      ]
     },
     "metadata": {},
     "output_type": "display_data"
    },
    {
     "data": {
      "application/vnd.jupyter.widget-view+json": {
       "model_id": "bf2cb011883c4fe19f30ae8f1bca1f18",
       "version_major": 2,
       "version_minor": 0
      },
      "text/plain": [
       "  0%|          | 0/30 [00:00<?, ?it/s]"
      ]
     },
     "metadata": {},
     "output_type": "display_data"
    },
    {
     "name": "stderr",
     "output_type": "stream",
     "text": [
      "/home/ubuntu/anaconda3/envs/kaggle/lib/python3.9/site-packages/torch/functional.py:504: UserWarning: torch.meshgrid: in an upcoming release, it will be required to pass the indexing argument. (Triggered internally at ../aten/src/ATen/native/TensorShape.cpp:3483.)\n",
      "  return _VF.meshgrid(tensors, **kwargs)  # type: ignore[attr-defined]\n"
     ]
    },
    {
     "data": {
      "application/vnd.jupyter.widget-view+json": {
       "model_id": "f7c212ab0bc442cfaad097c1960d8474",
       "version_major": 2,
       "version_minor": 0
      },
      "text/plain": [
       "0it [00:00, ?it/s]"
      ]
     },
     "metadata": {},
     "output_type": "display_data"
    },
    {
     "data": {
      "application/vnd.jupyter.widget-view+json": {
       "model_id": "e3c5c6d6c40b446b834ef47bda536639",
       "version_major": 2,
       "version_minor": 0
      },
      "text/plain": [
       "  0%|          | 0/4 [00:00<?, ?it/s]"
      ]
     },
     "metadata": {},
     "output_type": "display_data"
    },
    {
     "data": {
      "application/vnd.jupyter.widget-view+json": {
       "model_id": "0366b187a54648529931458c63b60895",
       "version_major": 2,
       "version_minor": 0
      },
      "text/plain": [
       "  0%|          | 0/30 [00:00<?, ?it/s]"
      ]
     },
     "metadata": {},
     "output_type": "display_data"
    },
    {
     "data": {
      "application/vnd.jupyter.widget-view+json": {
       "model_id": "69604157d17a480ea78bb7877c55a57b",
       "version_major": 2,
       "version_minor": 0
      },
      "text/plain": [
       "  0%|          | 0/30 [00:00<?, ?it/s]"
      ]
     },
     "metadata": {},
     "output_type": "display_data"
    },
    {
     "data": {
      "application/vnd.jupyter.widget-view+json": {
       "model_id": "e46eacfdab28480185a199d715dcb89d",
       "version_major": 2,
       "version_minor": 0
      },
      "text/plain": [
       "  0%|          | 0/30 [00:00<?, ?it/s]"
      ]
     },
     "metadata": {},
     "output_type": "display_data"
    },
    {
     "data": {
      "application/vnd.jupyter.widget-view+json": {
       "model_id": "cd1f6958404a4e3088543963e5cfd755",
       "version_major": 2,
       "version_minor": 0
      },
      "text/plain": [
       "  0%|          | 0/30 [00:00<?, ?it/s]"
      ]
     },
     "metadata": {},
     "output_type": "display_data"
    },
    {
     "data": {
      "application/vnd.jupyter.widget-view+json": {
       "model_id": "fffcb7e47d134663b8e260ba30d7cb3d",
       "version_major": 2,
       "version_minor": 0
      },
      "text/plain": [
       "  0%|          | 0/4 [00:00<?, ?it/s]"
      ]
     },
     "metadata": {},
     "output_type": "display_data"
    },
    {
     "data": {
      "application/vnd.jupyter.widget-view+json": {
       "model_id": "751a6b7476db494d84ac9a716b2a2d96",
       "version_major": 2,
       "version_minor": 0
      },
      "text/plain": [
       "  0%|          | 0/30 [00:00<?, ?it/s]"
      ]
     },
     "metadata": {},
     "output_type": "display_data"
    },
    {
     "data": {
      "application/vnd.jupyter.widget-view+json": {
       "model_id": "c342b90f99854541a4ec07b20930aee7",
       "version_major": 2,
       "version_minor": 0
      },
      "text/plain": [
       "  0%|          | 0/30 [00:00<?, ?it/s]"
      ]
     },
     "metadata": {},
     "output_type": "display_data"
    },
    {
     "data": {
      "application/vnd.jupyter.widget-view+json": {
       "model_id": "4fe75ad94e404fd493428e255f31711e",
       "version_major": 2,
       "version_minor": 0
      },
      "text/plain": [
       "  0%|          | 0/30 [00:00<?, ?it/s]"
      ]
     },
     "metadata": {},
     "output_type": "display_data"
    },
    {
     "data": {
      "application/vnd.jupyter.widget-view+json": {
       "model_id": "5785aa8bd5b84e97970c21d2ff8bd974",
       "version_major": 2,
       "version_minor": 0
      },
      "text/plain": [
       "  0%|          | 0/30 [00:00<?, ?it/s]"
      ]
     },
     "metadata": {},
     "output_type": "display_data"
    },
    {
     "data": {
      "application/vnd.jupyter.widget-view+json": {
       "model_id": "9b986b4f54634c4d9440a984811168e5",
       "version_major": 2,
       "version_minor": 0
      },
      "text/plain": [
       "0it [00:00, ?it/s]"
      ]
     },
     "metadata": {},
     "output_type": "display_data"
    },
    {
     "data": {
      "application/vnd.jupyter.widget-view+json": {
       "model_id": "00be6143cf5d44e396a50d6b10f291b1",
       "version_major": 2,
       "version_minor": 0
      },
      "text/plain": [
       "  0%|          | 0/4 [00:00<?, ?it/s]"
      ]
     },
     "metadata": {},
     "output_type": "display_data"
    },
    {
     "data": {
      "application/vnd.jupyter.widget-view+json": {
       "model_id": "127c7a48447d45e0a2d7dfc4828c805f",
       "version_major": 2,
       "version_minor": 0
      },
      "text/plain": [
       "  0%|          | 0/156 [00:00<?, ?it/s]"
      ]
     },
     "metadata": {},
     "output_type": "display_data"
    },
    {
     "data": {
      "application/vnd.jupyter.widget-view+json": {
       "model_id": "5a20e2fbdb424b00841cc56bdb1be8a5",
       "version_major": 2,
       "version_minor": 0
      },
      "text/plain": [
       "  0%|          | 0/156 [00:00<?, ?it/s]"
      ]
     },
     "metadata": {},
     "output_type": "display_data"
    },
    {
     "data": {
      "application/vnd.jupyter.widget-view+json": {
       "model_id": "c12377c093594534bcb739548a27a8ba",
       "version_major": 2,
       "version_minor": 0
      },
      "text/plain": [
       "  0%|          | 0/156 [00:00<?, ?it/s]"
      ]
     },
     "metadata": {},
     "output_type": "display_data"
    },
    {
     "data": {
      "application/vnd.jupyter.widget-view+json": {
       "model_id": "0cd2a6f0be554b529ace94c0732fcddb",
       "version_major": 2,
       "version_minor": 0
      },
      "text/plain": [
       "  0%|          | 0/156 [00:00<?, ?it/s]"
      ]
     },
     "metadata": {},
     "output_type": "display_data"
    },
    {
     "data": {
      "application/vnd.jupyter.widget-view+json": {
       "model_id": "a7507f1cd3394b08aa07b13b7610d0ba",
       "version_major": 2,
       "version_minor": 0
      },
      "text/plain": [
       "  0%|          | 0/4 [00:00<?, ?it/s]"
      ]
     },
     "metadata": {},
     "output_type": "display_data"
    },
    {
     "data": {
      "application/vnd.jupyter.widget-view+json": {
       "model_id": "5cd312578453422a8ee71d2196272e30",
       "version_major": 2,
       "version_minor": 0
      },
      "text/plain": [
       "  0%|          | 0/156 [00:00<?, ?it/s]"
      ]
     },
     "metadata": {},
     "output_type": "display_data"
    },
    {
     "data": {
      "application/vnd.jupyter.widget-view+json": {
       "model_id": "2aab29ef6c1c4f1281a1447e3505a3ed",
       "version_major": 2,
       "version_minor": 0
      },
      "text/plain": [
       "  0%|          | 0/156 [00:00<?, ?it/s]"
      ]
     },
     "metadata": {},
     "output_type": "display_data"
    },
    {
     "data": {
      "application/vnd.jupyter.widget-view+json": {
       "model_id": "493d1d2f89504d1eae25755c9fd169eb",
       "version_major": 2,
       "version_minor": 0
      },
      "text/plain": [
       "  0%|          | 0/156 [00:00<?, ?it/s]"
      ]
     },
     "metadata": {},
     "output_type": "display_data"
    },
    {
     "data": {
      "application/vnd.jupyter.widget-view+json": {
       "model_id": "85abca28671f47d5b13812e51a5429d9",
       "version_major": 2,
       "version_minor": 0
      },
      "text/plain": [
       "  0%|          | 0/156 [00:00<?, ?it/s]"
      ]
     },
     "metadata": {},
     "output_type": "display_data"
    },
    {
     "data": {
      "application/vnd.jupyter.widget-view+json": {
       "model_id": "d8286afb98e748cdb2864e6d0ea0258a",
       "version_major": 2,
       "version_minor": 0
      },
      "text/plain": [
       "  0%|          | 0/4 [00:00<?, ?it/s]"
      ]
     },
     "metadata": {},
     "output_type": "display_data"
    },
    {
     "data": {
      "application/vnd.jupyter.widget-view+json": {
       "model_id": "04553e16f01f45b08c900f1c576a9e1c",
       "version_major": 2,
       "version_minor": 0
      },
      "text/plain": [
       "  0%|          | 0/156 [00:00<?, ?it/s]"
      ]
     },
     "metadata": {},
     "output_type": "display_data"
    },
    {
     "data": {
      "application/vnd.jupyter.widget-view+json": {
       "model_id": "ef27866a2ed0461fb9a9dadbeab4ca8c",
       "version_major": 2,
       "version_minor": 0
      },
      "text/plain": [
       "  0%|          | 0/156 [00:00<?, ?it/s]"
      ]
     },
     "metadata": {},
     "output_type": "display_data"
    },
    {
     "data": {
      "application/vnd.jupyter.widget-view+json": {
       "model_id": "e0c593b8221f4ff4a510636d8f19ec45",
       "version_major": 2,
       "version_minor": 0
      },
      "text/plain": [
       "  0%|          | 0/156 [00:00<?, ?it/s]"
      ]
     },
     "metadata": {},
     "output_type": "display_data"
    },
    {
     "data": {
      "application/vnd.jupyter.widget-view+json": {
       "model_id": "fd023c72be144db4b75b2fd1287cb030",
       "version_major": 2,
       "version_minor": 0
      },
      "text/plain": [
       "  0%|          | 0/156 [00:00<?, ?it/s]"
      ]
     },
     "metadata": {},
     "output_type": "display_data"
    }
   ],
   "source": [
    "d_preds = {}\n",
    "\n",
    "for model_name in tqdm(model_names):\n",
    "    model = get_model(model_name, device)\n",
    "    model.eval()\n",
    "    bs = d_info[model_name]['bs']\n",
    "\n",
    "    all_preds = []\n",
    "    for fn in tqdm(Path('./models/{}/'.format(model_name)).glob('*.pth')):\n",
    "        state_dict = torch.load(fn, map_location=device)\n",
    "        model.load_state_dict(state_dict)\n",
    "        preds_TTA = []\n",
    "        for i in tqdm(range(4)):\n",
    "            test_ds = TestDefectDataset('./data/test_B/imgs/', df, flip_mode=i)\n",
    "            test_dl = DataLoader(test_ds, batch_size=bs, shuffle=False)\n",
    "            preds_TTA.append(predict_dl(model, test_dl, len(test_ds), bs))\n",
    "        preds = np.stack(preds_TTA, axis=0).mean(0)\n",
    "        all_preds.append(preds)\n",
    "        \n",
    "    d_preds[model_name] = np.stack(all_preds, axis=0)"
   ]
  },
  {
   "cell_type": "code",
   "execution_count": 5,
   "id": "e1d8a1a7",
   "metadata": {
    "ExecuteTime": {
     "end_time": "2024-02-03T21:20:11.093714Z",
     "start_time": "2024-02-03T21:20:11.088148Z"
    }
   },
   "outputs": [],
   "source": [
    "final_preds = np.zeros((len(test_ds), 5), dtype=np.float32)\n",
    "for model_name in model_names:\n",
    "    final_preds += d_info[model_name]['preds_weight'] * d_preds[model_name].mean(0)"
   ]
  },
  {
   "cell_type": "code",
   "execution_count": 15,
   "id": "569a7be8",
   "metadata": {
    "ExecuteTime": {
     "end_time": "2024-02-03T21:21:18.399703Z",
     "start_time": "2024-02-03T21:21:18.389441Z"
    }
   },
   "outputs": [
    {
     "data": {
      "text/plain": [
       "True"
      ]
     },
     "execution_count": 15,
     "metadata": {},
     "output_type": "execute_result"
    }
   ],
   "source": [
    "(np.array([d_label[i] for i in final_preds.argmax(1)]) == pd.read_csv('../../preds_ens1_testB.csv')['defectType'].values).all()"
   ]
  },
  {
   "cell_type": "code",
   "execution_count": 2,
   "id": "a4c58d4d",
   "metadata": {
    "ExecuteTime": {
     "end_time": "2024-02-03T22:37:04.822219Z",
     "start_time": "2024-02-03T22:37:04.535768Z"
    }
   },
   "outputs": [],
   "source": [
    "import pandas as pd"
   ]
  },
  {
   "cell_type": "code",
   "execution_count": 3,
   "id": "79ced710",
   "metadata": {
    "ExecuteTime": {
     "end_time": "2024-02-03T22:37:27.153905Z",
     "start_time": "2024-02-03T22:37:27.140015Z"
    }
   },
   "outputs": [
    {
     "data": {
      "text/plain": [
       "True"
      ]
     },
     "execution_count": 3,
     "metadata": {},
     "output_type": "execute_result"
    }
   ],
   "source": [
    "(pd.read_csv('./outputs/preds_testB.csv')['defectType'].values == pd.read_csv('../../preds_ens1_testB.csv')['defectType'].values).all()"
   ]
  },
  {
   "cell_type": "code",
   "execution_count": null,
   "id": "c2ea7ea5",
   "metadata": {},
   "outputs": [],
   "source": []
  },
  {
   "cell_type": "code",
   "execution_count": 4,
   "id": "ce724b5d",
   "metadata": {
    "ExecuteTime": {
     "end_time": "2024-02-03T21:02:38.211299Z",
     "start_time": "2024-02-03T21:02:38.204876Z"
    }
   },
   "outputs": [
    {
     "data": {
      "text/plain": [
       "array([[0.00356013, 0.9826282 , 0.00168564, 0.0076319 , 0.00449407],\n",
       "       [0.03369302, 0.3161806 , 0.5916597 , 0.04272331, 0.0157434 ],\n",
       "       [0.9335152 , 0.00631319, 0.00619245, 0.04084496, 0.01313419],\n",
       "       ...,\n",
       "       [0.0225941 , 0.06067643, 0.87502414, 0.02592409, 0.01578129],\n",
       "       [0.01908799, 0.47879982, 0.40563366, 0.07376973, 0.0227088 ],\n",
       "       [0.00573853, 0.00172516, 0.98658836, 0.00318624, 0.00276172]],\n",
       "      dtype=float32)"
      ]
     },
     "execution_count": 4,
     "metadata": {},
     "output_type": "execute_result"
    }
   ],
   "source": [
    "np.stack(all_preds, axis=0)[0]"
   ]
  },
  {
   "cell_type": "code",
   "execution_count": 9,
   "id": "31522fa9",
   "metadata": {
    "ExecuteTime": {
     "end_time": "2024-02-03T21:05:42.675922Z",
     "start_time": "2024-02-03T21:05:42.669401Z"
    }
   },
   "outputs": [
    {
     "data": {
      "text/plain": [
       "[array([[0.00356013, 0.9826282 , 0.00168564, 0.0076319 , 0.00449407],\n",
       "        [0.03369302, 0.3161806 , 0.5916597 , 0.04272331, 0.0157434 ],\n",
       "        [0.9335152 , 0.00631319, 0.00619245, 0.04084496, 0.01313419],\n",
       "        ...,\n",
       "        [0.0225941 , 0.06067643, 0.87502414, 0.02592409, 0.01578129],\n",
       "        [0.01908799, 0.47879982, 0.40563366, 0.07376973, 0.0227088 ],\n",
       "        [0.00573853, 0.00172516, 0.98658836, 0.00318624, 0.00276172]],\n",
       "       dtype=float32),\n",
       " array([[8.71189637e-04, 9.94677782e-01, 1.10002467e-03, 2.62536388e-03,\n",
       "         7.25614256e-04],\n",
       "        [1.18817445e-02, 8.38341117e-01, 1.40168741e-01, 7.18815299e-03,\n",
       "         2.42028851e-03],\n",
       "        [9.94380474e-01, 4.19340795e-04, 7.65837904e-04, 3.23878136e-03,\n",
       "         1.19550247e-03],\n",
       "        ...,\n",
       "        [2.77360366e-03, 9.04845774e-01, 8.70373547e-02, 3.87914455e-03,\n",
       "         1.46410929e-03],\n",
       "        [1.58218306e-03, 9.77751970e-01, 1.70671251e-02, 2.94763991e-03,\n",
       "         6.51012349e-04],\n",
       "        [7.56895985e-04, 4.63954115e-04, 9.97788191e-01, 4.56060865e-04,\n",
       "         5.34872175e-04]], dtype=float32)]"
      ]
     },
     "execution_count": 9,
     "metadata": {},
     "output_type": "execute_result"
    }
   ],
   "source": [
    "all_preds"
   ]
  },
  {
   "cell_type": "code",
   "execution_count": null,
   "id": "a95ee03f",
   "metadata": {},
   "outputs": [],
   "source": []
  },
  {
   "cell_type": "code",
   "execution_count": 79,
   "id": "a0ecf8d7",
   "metadata": {
    "ExecuteTime": {
     "end_time": "2024-02-03T19:49:42.727345Z",
     "start_time": "2024-02-03T19:49:42.721098Z"
    }
   },
   "outputs": [
    {
     "data": {
      "text/plain": [
       "array([[0.00356013, 0.9826282 , 0.00168564, 0.0076319 , 0.00449407],\n",
       "       [0.03369302, 0.3161806 , 0.5916597 , 0.04272331, 0.0157434 ],\n",
       "       [0.9335152 , 0.00631319, 0.00619245, 0.04084496, 0.01313419],\n",
       "       ...,\n",
       "       [0.0225941 , 0.06067643, 0.87502414, 0.02592409, 0.01578129],\n",
       "       [0.01908799, 0.47879982, 0.40563366, 0.07376973, 0.0227088 ],\n",
       "       [0.00573853, 0.00172516, 0.98658836, 0.00318624, 0.00276172]],\n",
       "      dtype=float32)"
      ]
     },
     "execution_count": 79,
     "metadata": {},
     "output_type": "execute_result"
    }
   ],
   "source": [
    "np.stack(all_preds, axis=0)[0]"
   ]
  },
  {
   "cell_type": "code",
   "execution_count": 77,
   "id": "49cca7ef",
   "metadata": {
    "ExecuteTime": {
     "end_time": "2024-02-03T19:47:17.005514Z",
     "start_time": "2024-02-03T19:47:16.998895Z"
    }
   },
   "outputs": [
    {
     "data": {
      "text/plain": [
       "array([[8.6252991e-04, 9.9437428e-01, 1.2325564e-03, 2.7514540e-03,\n",
       "        7.7924045e-04],\n",
       "       [7.7447719e-03, 9.1964084e-01, 6.6136941e-02, 4.9935002e-03,\n",
       "        1.4839391e-03],\n",
       "       [9.9341983e-01, 5.3408241e-04, 8.5828069e-04, 4.0250081e-03,\n",
       "        1.1627662e-03],\n",
       "       ...,\n",
       "       [2.5005441e-03, 9.2922044e-01, 6.2658735e-02, 3.8333342e-03,\n",
       "        1.7868972e-03],\n",
       "       [1.5014996e-03, 9.7812361e-01, 1.6436147e-02, 3.3488257e-03,\n",
       "        5.8998470e-04],\n",
       "       [7.3263457e-04, 4.4894399e-04, 9.9782795e-01, 4.5757645e-04,\n",
       "        5.3286069e-04]], dtype=float32)"
      ]
     },
     "execution_count": 77,
     "metadata": {},
     "output_type": "execute_result"
    }
   ],
   "source": [
    "preds_TTA[0]"
   ]
  },
  {
   "cell_type": "code",
   "execution_count": 74,
   "id": "ee7cbe32",
   "metadata": {
    "ExecuteTime": {
     "end_time": "2024-02-03T19:43:12.850554Z",
     "start_time": "2024-02-03T19:43:12.844151Z"
    }
   },
   "outputs": [
    {
     "data": {
      "text/plain": [
       "tensor([[8.6253e-04, 9.9437e-01, 1.2326e-03, 2.7515e-03, 7.7924e-04],\n",
       "        [7.7448e-03, 9.1964e-01, 6.6137e-02, 4.9935e-03, 1.4839e-03],\n",
       "        [9.9342e-01, 5.3408e-04, 8.5828e-04, 4.0250e-03, 1.1628e-03],\n",
       "        ...,\n",
       "        [2.5005e-03, 9.2922e-01, 6.2659e-02, 3.8333e-03, 1.7869e-03],\n",
       "        [1.5015e-03, 9.7812e-01, 1.6436e-02, 3.3488e-03, 5.8998e-04],\n",
       "        [7.3263e-04, 4.4894e-04, 9.9783e-01, 4.5758e-04, 5.3286e-04]])"
      ]
     },
     "execution_count": 74,
     "metadata": {},
     "output_type": "execute_result"
    }
   ],
   "source": [
    "nn.Softmax(dim=1)(torch.tensor(preds_TTA[0]))"
   ]
  },
  {
   "cell_type": "code",
   "execution_count": 62,
   "id": "02440078",
   "metadata": {
    "ExecuteTime": {
     "end_time": "2024-02-03T19:39:41.562360Z",
     "start_time": "2024-02-03T19:39:41.556885Z"
    }
   },
   "outputs": [
    {
     "data": {
      "text/plain": [
       "tensor([-1.2499,  4.3723, -1.9980, -0.4858, -1.0177])"
      ]
     },
     "execution_count": 62,
     "metadata": {},
     "output_type": "execute_result"
    }
   ],
   "source": [
    "torch.tensor(all_preds[0])[0]"
   ]
  },
  {
   "cell_type": "code",
   "execution_count": 59,
   "id": "90fa6bd1",
   "metadata": {
    "ExecuteTime": {
     "end_time": "2024-02-03T19:39:24.757090Z",
     "start_time": "2024-02-03T19:39:24.751470Z"
    }
   },
   "outputs": [],
   "source": [
    "torch.sigmoid??"
   ]
  },
  {
   "cell_type": "code",
   "execution_count": 46,
   "id": "3e8c0dfc",
   "metadata": {
    "ExecuteTime": {
     "end_time": "2024-02-03T19:32:19.544239Z",
     "start_time": "2024-02-03T19:32:19.539519Z"
    }
   },
   "outputs": [],
   "source": [
    "ppp = np.load('../../all_final_preds_convnext_large_testB.npy')"
   ]
  },
  {
   "cell_type": "code",
   "execution_count": 53,
   "id": "f5d58b7e",
   "metadata": {
    "ExecuteTime": {
     "end_time": "2024-02-03T19:32:37.508306Z",
     "start_time": "2024-02-03T19:32:37.490829Z"
    }
   },
   "outputs": [
    {
     "ename": "IndexError",
     "evalue": "index 6 is out of bounds for axis 0 with size 6",
     "output_type": "error",
     "traceback": [
      "\u001b[0;31m---------------------------------------------------------------------------\u001b[0m",
      "\u001b[0;31mIndexError\u001b[0m                                Traceback (most recent call last)",
      "Cell \u001b[0;32mIn[53], line 1\u001b[0m\n\u001b[0;32m----> 1\u001b[0m \u001b[43mppp\u001b[49m\u001b[43m[\u001b[49m\u001b[38;5;241;43m6\u001b[39;49m\u001b[43m]\u001b[49m\n",
      "\u001b[0;31mIndexError\u001b[0m: index 6 is out of bounds for axis 0 with size 6"
     ]
    }
   ],
   "source": [
    "ppp[6]"
   ]
  },
  {
   "cell_type": "code",
   "execution_count": null,
   "id": "29902ad6",
   "metadata": {},
   "outputs": [],
   "source": []
  },
  {
   "cell_type": "code",
   "execution_count": null,
   "id": "21574f82",
   "metadata": {},
   "outputs": [],
   "source": []
  },
  {
   "cell_type": "code",
   "execution_count": null,
   "id": "3b755756",
   "metadata": {},
   "outputs": [],
   "source": []
  },
  {
   "cell_type": "code",
   "execution_count": 66,
   "id": "a4ca8845",
   "metadata": {
    "ExecuteTime": {
     "end_time": "2024-02-03T19:03:28.847314Z",
     "start_time": "2024-02-03T19:03:28.754972Z"
    }
   },
   "outputs": [
    {
     "data": {
      "text/plain": [
       "array([[-1.2075927 ,  4.3232093 , -1.9742235 , -0.49631026, -0.98660743],\n",
       "       [-0.8974646 ,  0.97720724,  2.4082477 , -0.86355823, -1.7573649 ],\n",
       "       [ 3.599859  , -1.4566525 , -1.597738  ,  0.41619867, -0.59531313],\n",
       "       [ 2.9845521 , -0.68956745, -1.5641989 , -0.44426316, -0.8196466 ],\n",
       "       [-1.3981049 ,  3.1474617 , -0.95935094, -0.20993842, -0.9864963 ],\n",
       "       [ 3.3541446 , -1.1849244 , -1.0543909 ,  0.35203204, -0.7642896 ],\n",
       "       [-0.49625063,  2.4825764 , -0.45095357, -0.6553727 , -1.2105068 ],\n",
       "       [ 3.1782267 , -1.0537734 , -1.0038612 , -0.21590973, -0.47399846],\n",
       "       [ 0.22670352, -0.47401682, -2.3253994 ,  1.1911768 ,  1.5226316 ],\n",
       "       [ 1.9904729 ,  0.60977536, -2.3718138 ,  0.6812567 , -0.44064057],\n",
       "       [-1.6219131 ,  2.6259015 , -2.9229717 ,  0.40915933,  0.993999  ],\n",
       "       [ 0.5913993 ,  0.43266383, -1.4077877 ,  0.78465307, -0.81851137],\n",
       "       [ 0.39437333,  2.9152927 , -1.8924325 , -0.06549859, -1.1622498 ],\n",
       "       [-0.76807386,  2.8550835 , -1.2771521 , -0.7820319 , -0.46152526],\n",
       "       [-1.1828465 ,  3.878587  , -1.0296458 , -0.87580925, -1.0854164 ],\n",
       "       [ 2.8997622 , -1.0663526 , -0.6324688 ,  0.6782099 , -1.056729  ],\n",
       "       [-1.5781499 ,  3.1336384 ,  0.77491325, -1.0721381 , -1.3768983 ],\n",
       "       [ 0.48203126,  3.130709  , -2.8008854 , -0.21633568, -0.69023675],\n",
       "       [-0.62814415, -1.2844381 ,  4.852592  , -1.0464622 , -1.4757878 ],\n",
       "       [-1.2060988 ,  3.459966  , -1.3681196 , -0.3352095 , -1.0166031 ],\n",
       "       [ 2.6840978 , -0.45088243, -0.17761931, -0.15880436, -1.0169395 ],\n",
       "       [ 0.6690021 , -0.65810496, -2.4061244 ,  1.1774518 ,  0.89181924],\n",
       "       [-1.2172266 ,  4.256334  , -1.8926569 , -0.64138454, -0.9742404 ],\n",
       "       [ 1.0630331 , -0.70512277, -0.45881954,  1.1754708 , -0.15207382],\n",
       "       [-0.8480284 , -1.5150851 ,  4.8624034 , -0.9795949 , -1.1532584 ],\n",
       "       [-1.623115  ,  2.4783766 , -1.9457372 ,  0.887796  , -0.2153522 ],\n",
       "       [-0.753073  ,  2.4864228 , -0.62046695,  0.36749598, -1.3033918 ],\n",
       "       [ 3.800171  , -1.3881749 , -0.9136979 ,  0.09903826, -0.8073186 ],\n",
       "       [-2.3978863 ,  4.2301474 , -2.4532533 ,  0.4931611 , -0.35232177],\n",
       "       [-2.4487607 ,  2.8024347 , -0.24055244, -0.05610244, -0.55387646],\n",
       "       [ 0.4263831 , -0.22446443, -1.6390132 ,  2.051822  , -0.7530438 ],\n",
       "       [-0.45232233,  3.2190626 , -1.8071084 , -0.49625012, -0.9560025 ]],\n",
       "      dtype=float32)"
      ]
     },
     "execution_count": 66,
     "metadata": {},
     "output_type": "execute_result"
    }
   ],
   "source": [
    "model(batch.to(device)).detach().cpu().numpy()"
   ]
  },
  {
   "cell_type": "code",
   "execution_count": 64,
   "id": "60da7348",
   "metadata": {
    "ExecuteTime": {
     "end_time": "2024-02-03T18:59:59.578816Z",
     "start_time": "2024-02-03T18:59:59.572838Z"
    }
   },
   "outputs": [
    {
     "data": {
      "text/plain": [
       "(7476, 5)"
      ]
     },
     "execution_count": 64,
     "metadata": {},
     "output_type": "execute_result"
    }
   ],
   "source": [
    "np.vstack(preds_TTA).shape"
   ]
  },
  {
   "cell_type": "code",
   "execution_count": null,
   "id": "4997ad16",
   "metadata": {},
   "outputs": [],
   "source": []
  },
  {
   "cell_type": "code",
   "execution_count": 15,
   "id": "dfbb0b7e",
   "metadata": {
    "ExecuteTime": {
     "end_time": "2024-02-03T18:47:51.146894Z",
     "start_time": "2024-02-03T18:47:48.643053Z"
    }
   },
   "outputs": [],
   "source": [
    "model_name = 'convnext_large'\n",
    "#checkpoint = './models/convnext_large/model_0_0.00036307806149125097.pth'\n",
    "model = get_model(model_name, device)"
   ]
  },
  {
   "cell_type": "code",
   "execution_count": 34,
   "id": "396d28e9",
   "metadata": {
    "ExecuteTime": {
     "end_time": "2024-02-03T18:50:41.117123Z",
     "start_time": "2024-02-03T18:50:41.112451Z"
    }
   },
   "outputs": [],
   "source": [
    "test_ds = TestDefectDataset('./data/test_B/imgs/', df, flip_mode=3)\n",
    "test_dl = DataLoader(test_ds, batch_size=d_info[model_name]['bs'], shuffle=False)"
   ]
  },
  {
   "cell_type": "code",
   "execution_count": 35,
   "id": "e343c42d",
   "metadata": {
    "ExecuteTime": {
     "end_time": "2024-02-03T18:50:41.398739Z",
     "start_time": "2024-02-03T18:50:41.340470Z"
    }
   },
   "outputs": [],
   "source": [
    "batch, _ = next(iter(test_dl))"
   ]
  },
  {
   "cell_type": "code",
   "execution_count": 36,
   "id": "4ace9869",
   "metadata": {
    "ExecuteTime": {
     "end_time": "2024-02-03T18:50:42.003315Z",
     "start_time": "2024-02-03T18:50:41.985482Z"
    }
   },
   "outputs": [],
   "source": [
    "model.eval()\n",
    "with torch.no_grad():\n",
    "    preds = model(batch.to(device))"
   ]
  },
  {
   "cell_type": "code",
   "execution_count": 37,
   "id": "decb51f3",
   "metadata": {
    "ExecuteTime": {
     "end_time": "2024-02-03T18:50:44.296613Z",
     "start_time": "2024-02-03T18:50:44.290896Z"
    }
   },
   "outputs": [
    {
     "data": {
      "text/plain": [
       "tensor([2, 4, 1, 4, 4, 4, 4, 1, 1, 4, 2, 1, 4, 4, 2, 1, 2, 2, 1, 4, 4, 1, 1, 4,\n",
       "        1, 4, 2, 2, 2, 3, 2, 4], device='cuda:0')"
      ]
     },
     "execution_count": 37,
     "metadata": {},
     "output_type": "execute_result"
    }
   ],
   "source": [
    "preds.argmax(1)"
   ]
  },
  {
   "cell_type": "code",
   "execution_count": 33,
   "id": "09c45823",
   "metadata": {
    "ExecuteTime": {
     "end_time": "2024-02-03T18:49:53.722284Z",
     "start_time": "2024-02-03T18:49:53.715756Z"
    }
   },
   "outputs": [
    {
     "data": {
      "text/plain": [
       "tensor([2, 4, 1, 1, 4, 4, 4, 2, 2, 4, 2, 1, 4, 4, 2, 2, 2, 2, 1, 4, 2, 1, 1, 1,\n",
       "        1, 4, 2, 2, 2, 4, 2, 4], device='cuda:0')"
      ]
     },
     "execution_count": 33,
     "metadata": {},
     "output_type": "execute_result"
    }
   ],
   "source": [
    "preds.argmax(1)"
   ]
  },
  {
   "cell_type": "code",
   "execution_count": 29,
   "id": "326568a0",
   "metadata": {
    "ExecuteTime": {
     "end_time": "2024-02-03T18:49:42.469091Z",
     "start_time": "2024-02-03T18:49:42.461877Z"
    }
   },
   "outputs": [
    {
     "data": {
      "text/plain": [
       "tensor([1, 4, 1, 4, 4, 4, 4, 1, 1, 4, 1, 1, 4, 4, 2, 2, 2, 2, 1, 4, 4, 1, 1, 4,\n",
       "        1, 4, 2, 2, 2, 3, 2, 4], device='cuda:0')"
      ]
     },
     "execution_count": 29,
     "metadata": {},
     "output_type": "execute_result"
    }
   ],
   "source": [
    "preds.argmax(1)"
   ]
  },
  {
   "cell_type": "code",
   "execution_count": 25,
   "id": "4fe72828",
   "metadata": {
    "ExecuteTime": {
     "end_time": "2024-02-03T18:49:30.071876Z",
     "start_time": "2024-02-03T18:49:30.057957Z"
    }
   },
   "outputs": [
    {
     "data": {
      "text/plain": [
       "tensor([1, 4, 1, 3, 4, 4, 4, 1, 1, 4, 1, 1, 4, 4, 2, 2, 2, 2, 1, 4, 2, 2, 1, 1,\n",
       "        1, 4, 2, 2, 2, 1, 2, 4], device='cuda:0')"
      ]
     },
     "execution_count": 25,
     "metadata": {},
     "output_type": "execute_result"
    }
   ],
   "source": [
    "preds.argmax(1)"
   ]
  },
  {
   "cell_type": "code",
   "execution_count": null,
   "id": "96011135",
   "metadata": {},
   "outputs": [],
   "source": []
  },
  {
   "cell_type": "code",
   "execution_count": null,
   "id": "014daeb7",
   "metadata": {},
   "outputs": [],
   "source": []
  },
  {
   "cell_type": "code",
   "execution_count": 4,
   "id": "0ac3e727",
   "metadata": {
    "ExecuteTime": {
     "end_time": "2024-02-03T18:44:33.270371Z",
     "start_time": "2024-02-03T18:44:33.250082Z"
    }
   },
   "outputs": [
    {
     "ename": "NameError",
     "evalue": "name 'd_info' is not defined",
     "output_type": "error",
     "traceback": [
      "\u001b[0;31m---------------------------------------------------------------------------\u001b[0m",
      "\u001b[0;31mNameError\u001b[0m                                 Traceback (most recent call last)",
      "Cell \u001b[0;32mIn[4], line 2\u001b[0m\n\u001b[1;32m      1\u001b[0m test_ds \u001b[38;5;241m=\u001b[39m TestDefectDataset(\u001b[38;5;124m'\u001b[39m\u001b[38;5;124m./data/test_B/imgs/\u001b[39m\u001b[38;5;124m'\u001b[39m, df, flip_mode\u001b[38;5;241m=\u001b[39m\u001b[38;5;241m0\u001b[39m)\n\u001b[0;32m----> 2\u001b[0m test_dl \u001b[38;5;241m=\u001b[39m DataLoader(test_ds, batch_size\u001b[38;5;241m=\u001b[39m\u001b[43md_info\u001b[49m[model_name][\u001b[38;5;124m'\u001b[39m\u001b[38;5;124mbs\u001b[39m\u001b[38;5;124m'\u001b[39m], shuffle\u001b[38;5;241m=\u001b[39m\u001b[38;5;28;01mFalse\u001b[39;00m)\n",
      "\u001b[0;31mNameError\u001b[0m: name 'd_info' is not defined"
     ]
    }
   ],
   "source": [
    "test_ds = TestDefectDataset('./data/test_B/imgs/', df, flip_mode=0)\n",
    "test_dl = DataLoader(test_ds, batch_size=d_info[model_name]['bs'], shuffle=False)"
   ]
  },
  {
   "cell_type": "code",
   "execution_count": null,
   "id": "8b4c26d5",
   "metadata": {},
   "outputs": [],
   "source": []
  },
  {
   "cell_type": "code",
   "execution_count": null,
   "id": "bd2e4144",
   "metadata": {},
   "outputs": [],
   "source": []
  },
  {
   "cell_type": "code",
   "execution_count": 26,
   "id": "3938c6e6",
   "metadata": {
    "ExecuteTime": {
     "end_time": "2024-02-03T16:02:10.720382Z",
     "start_time": "2024-02-03T16:02:07.785625Z"
    }
   },
   "outputs": [
    {
     "data": {
      "text/plain": [
       "<All keys matched successfully>"
      ]
     },
     "execution_count": 26,
     "metadata": {},
     "output_type": "execute_result"
    }
   ],
   "source": [
    "model_name = 'convnext_large'\n",
    "model = getattr(models, model_name)(weights=d_info[model_name]['weights'])\n",
    "d_info[model_name]['change_head'](model)\n",
    "state_dict = torch.load('./models/convnext_large/model_0_0.00036307806149125097.pth', map_location=device)\n",
    "model.load_state_dict(state_dict)"
   ]
  },
  {
   "cell_type": "code",
   "execution_count": 29,
   "id": "428afe43",
   "metadata": {
    "ExecuteTime": {
     "end_time": "2024-02-03T17:27:03.884832Z",
     "start_time": "2024-02-03T17:27:03.743312Z"
    }
   },
   "outputs": [],
   "source": [
    "model.to(device);"
   ]
  },
  {
   "cell_type": "code",
   "execution_count": 30,
   "id": "88bf87f8",
   "metadata": {
    "ExecuteTime": {
     "end_time": "2024-02-03T17:27:08.350599Z",
     "start_time": "2024-02-03T17:27:08.327573Z"
    }
   },
   "outputs": [
    {
     "ename": "AttributeError",
     "evalue": "'ConvNeXt' object has no attribute 'device'",
     "output_type": "error",
     "traceback": [
      "\u001b[0;31m---------------------------------------------------------------------------\u001b[0m",
      "\u001b[0;31mAttributeError\u001b[0m                            Traceback (most recent call last)",
      "Cell \u001b[0;32mIn[30], line 1\u001b[0m\n\u001b[0;32m----> 1\u001b[0m \u001b[43mmodel\u001b[49m\u001b[38;5;241;43m.\u001b[39;49m\u001b[43mdevice\u001b[49m\n",
      "File \u001b[0;32m~/anaconda3/envs/kaggle/lib/python3.9/site-packages/torch/nn/modules/module.py:1614\u001b[0m, in \u001b[0;36mModule.__getattr__\u001b[0;34m(self, name)\u001b[0m\n\u001b[1;32m   1612\u001b[0m     \u001b[38;5;28;01mif\u001b[39;00m name \u001b[38;5;129;01min\u001b[39;00m modules:\n\u001b[1;32m   1613\u001b[0m         \u001b[38;5;28;01mreturn\u001b[39;00m modules[name]\n\u001b[0;32m-> 1614\u001b[0m \u001b[38;5;28;01mraise\u001b[39;00m \u001b[38;5;167;01mAttributeError\u001b[39;00m(\u001b[38;5;124m\"\u001b[39m\u001b[38;5;124m'\u001b[39m\u001b[38;5;132;01m{}\u001b[39;00m\u001b[38;5;124m'\u001b[39m\u001b[38;5;124m object has no attribute \u001b[39m\u001b[38;5;124m'\u001b[39m\u001b[38;5;132;01m{}\u001b[39;00m\u001b[38;5;124m'\u001b[39m\u001b[38;5;124m\"\u001b[39m\u001b[38;5;241m.\u001b[39mformat(\n\u001b[1;32m   1615\u001b[0m     \u001b[38;5;28mtype\u001b[39m(\u001b[38;5;28mself\u001b[39m)\u001b[38;5;241m.\u001b[39m\u001b[38;5;18m__name__\u001b[39m, name))\n",
      "\u001b[0;31mAttributeError\u001b[0m: 'ConvNeXt' object has no attribute 'device'"
     ]
    }
   ],
   "source": [
    "model.device"
   ]
  },
  {
   "cell_type": "code",
   "execution_count": 33,
   "id": "254f7517",
   "metadata": {
    "ExecuteTime": {
     "end_time": "2024-02-03T17:27:22.518553Z",
     "start_time": "2024-02-03T17:27:22.497739Z"
    }
   },
   "outputs": [
    {
     "ename": "AttributeError",
     "evalue": "'ConvNeXt' object has no attribute 'head'",
     "output_type": "error",
     "traceback": [
      "\u001b[0;31m---------------------------------------------------------------------------\u001b[0m",
      "\u001b[0;31mAttributeError\u001b[0m                            Traceback (most recent call last)",
      "Cell \u001b[0;32mIn[33], line 1\u001b[0m\n\u001b[0;32m----> 1\u001b[0m \u001b[43mmodel\u001b[49m\u001b[38;5;241;43m.\u001b[39;49m\u001b[43mhead\u001b[49m\n",
      "File \u001b[0;32m~/anaconda3/envs/kaggle/lib/python3.9/site-packages/torch/nn/modules/module.py:1614\u001b[0m, in \u001b[0;36mModule.__getattr__\u001b[0;34m(self, name)\u001b[0m\n\u001b[1;32m   1612\u001b[0m     \u001b[38;5;28;01mif\u001b[39;00m name \u001b[38;5;129;01min\u001b[39;00m modules:\n\u001b[1;32m   1613\u001b[0m         \u001b[38;5;28;01mreturn\u001b[39;00m modules[name]\n\u001b[0;32m-> 1614\u001b[0m \u001b[38;5;28;01mraise\u001b[39;00m \u001b[38;5;167;01mAttributeError\u001b[39;00m(\u001b[38;5;124m\"\u001b[39m\u001b[38;5;124m'\u001b[39m\u001b[38;5;132;01m{}\u001b[39;00m\u001b[38;5;124m'\u001b[39m\u001b[38;5;124m object has no attribute \u001b[39m\u001b[38;5;124m'\u001b[39m\u001b[38;5;132;01m{}\u001b[39;00m\u001b[38;5;124m'\u001b[39m\u001b[38;5;124m\"\u001b[39m\u001b[38;5;241m.\u001b[39mformat(\n\u001b[1;32m   1615\u001b[0m     \u001b[38;5;28mtype\u001b[39m(\u001b[38;5;28mself\u001b[39m)\u001b[38;5;241m.\u001b[39m\u001b[38;5;18m__name__\u001b[39m, name))\n",
      "\u001b[0;31mAttributeError\u001b[0m: 'ConvNeXt' object has no attribute 'head'"
     ]
    }
   ],
   "source": [
    "model.head"
   ]
  },
  {
   "cell_type": "code",
   "execution_count": null,
   "id": "6726d14e",
   "metadata": {},
   "outputs": [],
   "source": []
  }
 ],
 "metadata": {
  "kernelspec": {
   "display_name": "kaggle",
   "language": "python",
   "name": "kaggle"
  },
  "language_info": {
   "codemirror_mode": {
    "name": "ipython",
    "version": 3
   },
   "file_extension": ".py",
   "mimetype": "text/x-python",
   "name": "python",
   "nbconvert_exporter": "python",
   "pygments_lexer": "ipython3",
   "version": "3.9.17"
  }
 },
 "nbformat": 4,
 "nbformat_minor": 5
}
